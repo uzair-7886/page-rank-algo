{
 "cells": [
  {
   "cell_type": "markdown",
   "metadata": {},
   "source": [
    "##### Task 1\n",
    "Create a function to represent the web as a graph where each node represents a webpage, and edges represent hyperlinks from one page to another. To model the web graph, you can use a dictionary in Python where each key is a unique webpage, and the corresponding value is a list of webpages that the key webpage links to. This task involves creating a function create_web_graph(links) where links is a list of tuples, with each tuple representing a directed link from one page to another (e.g., ('PageA', 'PageB') signifies a link from Page A to Page B). The function should return a dictionary representing the graph. Utilize the collections module for more efficient data structures if necessary.\n",
    "1.\tUse a dictionary to represent the graph; keys are webpages, values are lists of linked webpages.\n",
    "2.\tcreate_web_graph(links) takes a list of (source, target) tuples representing directed edges.\n",
    "3.\tBegin with an empty dictionary to which nodes and edges will be added.\n",
    "4.\tAdd each source as a key to the dictionary, appending targets to its list, ensuring all targets are also keys.\n",
    "5.\tOutput the complete dictionary as the web graph after adding all links.\n"
   ]
  },
  {
   "cell_type": "code",
   "execution_count": 57,
   "metadata": {},
   "outputs": [
    {
     "name": "stdout",
     "output_type": "stream",
     "text": [
      "{'B': ['C', 'G'], 'C': ['A'], 'D': ['C'], 'E': ['C'], 'F': ['C', 'G'], 'G': ['B']}\n"
     ]
    }
   ],
   "source": [
    "links=[('B','C'),('B','G'),('C','A'),('D','C'),('E','C'),('F','C'),('F','G'),('G','B'),] \n",
    "def create_web_graph(links):\n",
    "    graph={}\n",
    "    for source,target in links:\n",
    "        if source not in graph:\n",
    "            graph[source]=[]\n",
    "        graph[source].append(target)\n",
    "    return graph\n",
    "\n",
    "web_graph=create_web_graph(links)\n",
    "print(web_graph)\n"
   ]
  },
  {
   "cell_type": "markdown",
   "metadata": {},
   "source": [
    "##### Task 2\n",
    "Implement the basic PageRank algorithm to calculate the rank of each page based on the number and quality of incoming links.  This task involves creating a function calculate_pagerank(graph, iterations, d=0.85) where graph is the web graph created in Task 1, iterations defines how many times the algorithm will run to update the PageRank values, and d is the damping factor, usually set to 0.85. Initialize the rank of each page to 1/N where N is the total number of pages. In each iteration, update the rank of each page based on the ranks of pages linking to it, considering the damping factor and the probability of jumping to a page at random. The function should return a dictionary with pages as keys and their corresponding PageRank as values.\n"
   ]
  },
  {
   "cell_type": "code",
   "execution_count": 58,
   "metadata": {},
   "outputs": [
    {
     "name": "stdout",
     "output_type": "stream",
     "text": [
      "C: 0.689442270058694\n",
      "B: 0.519275929549868\n",
      "G: 0.43444227005869396\n",
      "D: 0.15000000000000002\n",
      "E: 0.15000000000000002\n",
      "F: 0.15000000000000002\n"
     ]
    }
   ],
   "source": [
    "def calculate_pagerank(graph,iterations,d=0.85):\n",
    "    page_rank={}\n",
    "    for page in graph:\n",
    "        page_rank[page]=1/len(graph)\n",
    "    for iterations in range(iterations):\n",
    "        for page in graph:\n",
    "            sum=1-d\n",
    "            for other_page in graph:\n",
    "                if page in graph[other_page]:\n",
    "                    sum+=d*(page_rank[other_page]/len(graph[other_page]))\n",
    "            page_rank[page]=sum\n",
    "    return page_rank\n",
    "\n",
    "page_ranks=calculate_pagerank(web_graph,30)\n",
    "ranked_pages=sorted(page_ranks.items(), key=lambda x:x[1], reverse=True)\n",
    "for page,rank in ranked_pages:\n",
    "    print(f\"{page}: {rank}\")"
   ]
  },
  {
   "cell_type": "markdown",
   "metadata": {},
   "source": [
    "##### Task 3\n",
    "Modify the PageRank calculation to handle dangling pages (pages with no outbound links) by redistributing their rank equally among all pages. Enhance the calculate_pagerank function from Task 2 to identify dangling pages and adjust the rank calculation accordingly. After calculating the PageRank for each iteration, check for pages that do not link to any other page. Distribute the rank of these dangling pages equally to all pages in the next iteration. This ensures the total rank in the system remains constant, and the presence of dangling pages does not skew the results.\n"
   ]
  },
  {
   "cell_type": "code",
   "execution_count": 59,
   "metadata": {},
   "outputs": [
    {
     "name": "stdout",
     "output_type": "stream",
     "text": [
      "{'B': 0.5192758513181764, 'C': 0.6894422077011872, 'D': 0.15000000000000002, 'E': 0.15000000000000002, 'F': 0.15000000000000002, 'G': 0.43444220770118724}\n"
     ]
    }
   ],
   "source": [
    "def calculate_pagerankt3(graph, iterations=30, d=0.85):\n",
    "  N = len(graph)\n",
    "  dangling_pages = []\n",
    "  pagerank = dict.fromkeys(graph, 1/N)\n",
    "  for page in graph:\n",
    "    if not graph[page]:\n",
    "      dangling_pages.append(page)\n",
    "  for _ in range(iterations):\n",
    "    dangling_rank_mass = 0\n",
    "    for page in dangling_pages:\n",
    "      dangling_rank_mass += pagerank[page]\n",
    "    new_pagerank = {}\n",
    "    for page, outgoing_links in graph.items():\n",
    "      sum_pagerank = 0\n",
    "      for source in graph:\n",
    "        if page in graph[source]:\n",
    "          out_degree = len(graph[source])\n",
    "          sum_pagerank += pagerank[source] / out_degree\n",
    "      new_pagerank[page] = (1 - d) + d * sum_pagerank\n",
    "    for page in graph:\n",
    "      if page not in dangling_pages:\n",
    "        pagerank[page] = new_pagerank[page]\n",
    "    total_rank_addition = dangling_rank_mass / N\n",
    "    for page in graph:\n",
    "      pagerank[page] += total_rank_addition\n",
    "  return pagerank\n",
    "\n",
    "page_ranks = calculate_pagerankt3(web_graph)\n",
    "print(page_ranks)"
   ]
  },
  {
   "cell_type": "markdown",
   "metadata": {},
   "source": [
    "##### Task 4\n",
    "Implement a convergence check to stop the algorithm when the PageRank values stop changing significantly. Modify the calculate_pagerank function to include a parameter tolerance that defines the maximum allowed change in PageRank values between iterations before considering the algorithm to have converged. After each iteration, calculate the sum of absolute differences in PageRank values between the current and previous iterations for all pages. If this sum is less than tolerance, consider the algorithm to have converged and stop the iteration. This addition will make the algorithm more efficient by preventing unnecessary calculations.\n"
   ]
  },
  {
   "cell_type": "code",
   "execution_count": 60,
   "metadata": {},
   "outputs": [
    {
     "name": "stdout",
     "output_type": "stream",
     "text": [
      "Converged at iteration: 10\n",
      "{'B': 0.5172091014710642, 'C': 0.6877948274832464, 'D': 0.15000000000000002, 'E': 0.15000000000000002, 'F': 0.15000000000000002, 'G': 0.4327948274832464}\n"
     ]
    }
   ],
   "source": [
    "def calculate_pagerankt4(graph,iterations,d=0.85,tolerance= 0.001):\n",
    "    converged=False\n",
    "    page_rank={}\n",
    "    for page in graph:\n",
    "        page_rank[page]=1/len(graph)\n",
    "    for iteration in range(iterations):\n",
    "        new_page_rank={}\n",
    "        diff=0\n",
    "        for page in graph:\n",
    "            sum=1-d\n",
    "            for other_page in graph:\n",
    "                if page in graph[other_page]:\n",
    "                    sum+=d*(page_rank[other_page]/len(graph[other_page]))\n",
    "                    diff+=abs(page_rank[page]-sum)\n",
    "            if diff<tolerance:\n",
    "                converged=True\n",
    "                print(\"Converged at iteration:\",iteration)\n",
    "            new_page_rank[page]=sum\n",
    "        if converged:\n",
    "            break   \n",
    "        page_rank=new_page_rank\n",
    "    return page_rank\n",
    "\n",
    "page_ranks=calculate_pagerankt4(web_graph,100)\n",
    "print(page_ranks)"
   ]
  },
  {
   "cell_type": "markdown",
   "metadata": {},
   "source": [
    "##### Task 5\n",
    "Create a visualization of the web graph with nodes sized according to their PageRank score to help understand the distribution of importance across pages. Use the networkx library in Python to create and visualize the graph. First, generate a NetworkX graph from your web graph dictionary. Then, use the calculate_pagerank function to get the PageRank scores and apply these scores to determine the size of each node in the graph visualization. Utilize matplotlib for drawing the graph with networkx.draw function, where node size is proportional to its PageRank score. This task not only helps in debugging and analyzing the PageRank distribution but also provides insightful visual feedback on the structure and hierarchy of the web graph.\n"
   ]
  },
  {
   "cell_type": "code",
   "execution_count": 124,
   "metadata": {},
   "outputs": [
    {
     "data": {
      "image/png": "[encoded data removed]",
      "text/plain": [
       "<Figure size 640x480 with 1 Axes>"
      ]
     },
     "metadata": {},
     "output_type": "display_data"
    },
    {
     "data": {
      "text/plain": [
       "<Figure size 1200x1200 with 0 Axes>"
      ]
     },
     "metadata": {},
     "output_type": "display_data"
    }
   ],
   "source": [
    "import networkx as nx\n",
    "import matplotlib.pyplot as plt\n",
    "def visualize_pagerank(graph, pagerank_scores):\n",
    "    G = nx.DiGraph(graph)\n",
    "    node_sizes = [pagerank_scores[node] * 10000 if node in pagerank_scores else 100 for node in G.nodes()]\n",
    "    pos = nx.spring_layout(G)\n",
    "    nx.draw_networkx(G, pos, with_labels=True, node_size=node_sizes)\n",
    "    plt.show()\n",
    "\n",
    "visualize_pagerank(web_graph, page_ranks)\n",
    "\n"
   ]
  }
 ],
 "metadata": {
  "kernelspec": {
   "display_name": "Python 3",
   "language": "python",
   "name": "python3"
  },
  "language_info": {
   "codemirror_mode": {
    "name": "ipython",
    "version": 3
   },
   "file_extension": ".py",
   "mimetype": "text/x-python",
   "name": "python",
   "nbconvert_exporter": "python",
   "pygments_lexer": "ipython3",
   "version": "3.11.4"
  }
 },
 "nbformat": 4,
 "nbformat_minor": 2
}
